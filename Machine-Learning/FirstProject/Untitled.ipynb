{
 "cells": [
  {
   "cell_type": "code",
   "execution_count": 1,
   "id": "b42a55cd",
   "metadata": {},
   "outputs": [],
   "source": [
    "import pandas as pd\n",
    "import numpy as np"
   ]
  },
  {
   "cell_type": "code",
   "execution_count": 2,
   "id": "c11c5b51",
   "metadata": {},
   "outputs": [
    {
     "name": "stdout",
     "output_type": "stream",
     "text": [
      "   HouseID  Bedrooms  Bathrooms  SquareFeet Location   Price\n",
      "0        1         3          2        1500   Suburb  300000\n",
      "1        2         4          3        2500     City  500000\n",
      "2        3         2          1         900    Rural  150000\n",
      "3        4         3          2        1800   Suburb  320000\n",
      "4        5         4          2        2200     City  450000\n"
     ]
    }
   ],
   "source": [
    "df = pd.read_csv('house_prices.csv')\n",
    "print(df.head())"
   ]
  },
  {
   "cell_type": "code",
   "execution_count": 4,
   "id": "3d4dd090",
   "metadata": {},
   "outputs": [
    {
     "name": "stdout",
     "output_type": "stream",
     "text": [
      "   HouseID  Bedrooms  Bathrooms  SquareFeet Location   Price\n",
      "5        6         3          1        1300   Suburb  280000\n",
      "6        7         2          1        1000    Rural  160000\n",
      "7        8         5          3        2700     City  550000\n",
      "8        9         3          2        1600   Suburb  310000\n",
      "9       10         4          3        2400     City  480000\n"
     ]
    }
   ],
   "source": [
    "print(df.tail())"
   ]
  },
  {
   "cell_type": "code",
   "execution_count": 3,
   "id": "4e35356b",
   "metadata": {},
   "outputs": [
    {
     "name": "stdout",
     "output_type": "stream",
     "text": [
      "        HouseID   Bedrooms  Bathrooms   SquareFeet          Price\n",
      "count  10.00000  10.000000  10.000000    10.000000      10.000000\n",
      "mean    5.50000   3.300000   2.000000  1790.000000  350000.000000\n",
      "std     3.02765   0.948683   0.816497   636.745196  139602.610609\n",
      "min     1.00000   2.000000   1.000000   900.000000  150000.000000\n",
      "25%     3.25000   3.000000   1.250000  1350.000000  285000.000000\n",
      "50%     5.50000   3.000000   2.000000  1700.000000  315000.000000\n",
      "75%     7.75000   4.000000   2.750000  2350.000000  472500.000000\n",
      "max    10.00000   5.000000   3.000000  2700.000000  550000.000000\n"
     ]
    }
   ],
   "source": [
    "print(df.describe())"
   ]
  },
  {
   "cell_type": "code",
   "execution_count": 5,
   "id": "81d13f57",
   "metadata": {},
   "outputs": [
    {
     "name": "stdout",
     "output_type": "stream",
     "text": [
      "HouseID       0\n",
      "Bedrooms      0\n",
      "Bathrooms     0\n",
      "SquareFeet    0\n",
      "Location      0\n",
      "Price         0\n",
      "dtype: int64\n"
     ]
    }
   ],
   "source": [
    "print(df.isnull().sum())"
   ]
  },
  {
   "cell_type": "code",
   "execution_count": 7,
   "id": "3aa28f2e",
   "metadata": {},
   "outputs": [
    {
     "name": "stdout",
     "output_type": "stream",
     "text": [
      "Location\n",
      "Suburb    4\n",
      "City      4\n",
      "Rural     2\n",
      "Name: count, dtype: int64\n"
     ]
    }
   ],
   "source": [
    "print(df['Location'].value_counts())"
   ]
  },
  {
   "cell_type": "code",
   "execution_count": 8,
   "id": "37c696c3",
   "metadata": {},
   "outputs": [],
   "source": [
    "from sklearn.model_selection import train_test_split\n",
    "from sklearn.preprocessing import LabelEncoder, StandardScaler\n",
    "\n",
    "# Convert categorical variable 'Location' to numeric\n",
    "label_encoder = LabelEncoder()\n",
    "df['Location'] = label_encoder.fit_transform(df['Location'])\n",
    "\n",
    "# Split the data into features and target variable\n",
    "X = df.drop(columns=['HouseID', 'Price'])\n",
    "y = df['Price']\n",
    "\n",
    "# Split the data into training and testing sets\n",
    "X_train, X_test, y_train, y_test = train_test_split(X, y, test_size=0.2, random_state=42)\n",
    "\n",
    "# Normalize the features\n",
    "scaler = StandardScaler()\n",
    "X_train_scaled = scaler.fit_transform(X_train)\n",
    "X_test_scaled = scaler.transform(X_test)\n"
   ]
  },
  {
   "cell_type": "code",
   "execution_count": 9,
   "id": "b39a7d81",
   "metadata": {},
   "outputs": [
    {
     "name": "stdout",
     "output_type": "stream",
     "text": [
      "Mean Squared Error: 280115024.8653639\n"
     ]
    }
   ],
   "source": [
    "from sklearn.linear_model import LinearRegression\n",
    "from sklearn.metrics import mean_squared_error\n",
    "\n",
    "# Initialize and train the model\n",
    "model = LinearRegression()\n",
    "model.fit(X_train_scaled, y_train)\n",
    "\n",
    "# Make predictions on the test set\n",
    "y_pred = model.predict(X_test_scaled)\n",
    "\n",
    "# Evaluate the model\n",
    "mse = mean_squared_error(y_test, y_pred)\n",
    "print(f'Mean Squared Error: {mse}')\n"
   ]
  },
  {
   "cell_type": "code",
   "execution_count": null,
   "id": "9da8e403",
   "metadata": {},
   "outputs": [],
   "source": []
  }
 ],
 "metadata": {
  "kernelspec": {
   "display_name": "Python 3 (ipykernel)",
   "language": "python",
   "name": "python3"
  },
  "language_info": {
   "codemirror_mode": {
    "name": "ipython",
    "version": 3
   },
   "file_extension": ".py",
   "mimetype": "text/x-python",
   "name": "python",
   "nbconvert_exporter": "python",
   "pygments_lexer": "ipython3",
   "version": "3.9.13"
  }
 },
 "nbformat": 4,
 "nbformat_minor": 5
}
